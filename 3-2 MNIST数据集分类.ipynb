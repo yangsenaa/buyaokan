{
 "cells": [
  {
   "cell_type": "code",
   "execution_count": 8,
   "metadata": {},
   "outputs": [],
   "source": [
    "import tensorflow as tf\n",
    "from tensorflow.examples.tutorials.mnist import input_data\n"
   ]
  },
  {
   "cell_type": "code",
   "execution_count": 13,
   "metadata": {},
   "outputs": [
    {
     "name": "stdout",
     "output_type": "stream",
     "text": [
      "Extracting MNIST_data\\train-images-idx3-ubyte.gz\n",
      "Extracting MNIST_data\\train-labels-idx1-ubyte.gz\n",
      "Extracting MNIST_data\\t10k-images-idx3-ubyte.gz\n",
      "Extracting MNIST_data\\t10k-labels-idx1-ubyte.gz\n",
      "Iter 0,Testing Accuracy 0.8249\n",
      "Iter 1,Testing Accuracy 0.8936\n",
      "Iter 2,Testing Accuracy 0.9021\n",
      "Iter 3,Testing Accuracy 0.9053\n",
      "Iter 4,Testing Accuracy 0.9083\n",
      "Iter 5,Testing Accuracy 0.9105\n",
      "Iter 6,Testing Accuracy 0.9125\n",
      "Iter 7,Testing Accuracy 0.9131\n",
      "Iter 8,Testing Accuracy 0.9156\n",
      "Iter 9,Testing Accuracy 0.9174\n",
      "Iter 10,Testing Accuracy 0.9179\n",
      "Iter 11,Testing Accuracy 0.9193\n",
      "Iter 12,Testing Accuracy 0.9191\n",
      "Iter 13,Testing Accuracy 0.9197\n",
      "Iter 14,Testing Accuracy 0.9198\n",
      "Iter 15,Testing Accuracy 0.9189\n",
      "Iter 16,Testing Accuracy 0.9199\n",
      "Iter 17,Testing Accuracy 0.9205\n",
      "Iter 18,Testing Accuracy 0.922\n",
      "Iter 19,Testing Accuracy 0.9218\n",
      "Iter 20,Testing Accuracy 0.9215\n"
     ]
    }
   ],
   "source": [
    "# 载入数据集\n",
    "mnist = input_data.read_data_sets(\"MNIST_data\", one_hot=True)\n",
    "\n",
    "# 每个批次的大小\n",
    "batch_size = 100\n",
    "n_batch = mnist.train.num_examples // batch_size # //为整除符号，n_batch为一共多少批次\n",
    "\n",
    "# 定义两个placeholder\n",
    "x = tf.placeholder(tf.float32, [None, 784])\n",
    "y = tf.placeholder(tf.float32, [None, 10])\n",
    "# 创建一个神经网络\n",
    "W = tf.Variable(tf.zeros([784, 10]))\n",
    "b = tf.Variable(tf.zeros([10]))\n",
    "prediction = tf.nn.softmax(tf.matmul(x, W) + b)\n",
    "\n",
    "# 对数释然代价函数，常与softmax搭配使用的交叉熵\n",
    "loss = tf.reduce_mean(tf.nn.softmax_cross_entropy_with_logits(labels=y,logits=prediction)) \n",
    "# 二次代价函数\n",
    "#loss = tf.reduce_mean(tf.square(y - prediction))\n",
    "# 使用梯度下降\n",
    "train_step = tf.train.GradientDescentOptimizer(0.2).minimize(loss)\n",
    "# 初始化变量\n",
    "init = tf.global_variables_initializer()\n",
    "\n",
    "# 结果放在一个布尔型列表中\n",
    "correct_prediction = tf.equal(tf.argmax(y,1),tf.argmax(prediction, 1))\n",
    "# 求准确率\n",
    "accuracy = tf.reduce_mean(tf.cast(correct_prediction, tf.float32))\n",
    "\n",
    "with tf.Session() as sess:\n",
    "    sess.run(init)\n",
    "    for epoch in range(21):\n",
    "        for batch in range(n_batch):\n",
    "            batch_xs, batch_ys = mnist.train.next_batch(batch_size)\n",
    "            sess.run(train_step,feed_dict={x:batch_xs,y:batch_ys})\n",
    "            \n",
    "        acc = sess.run(accuracy, feed_dict={x:mnist.test.images, y:mnist.test.labels})\n",
    "        print(\"Iter \" + str(epoch) + \",Testing Accuracy \" + str(acc))"
   ]
  },
  {
   "cell_type": "code",
   "execution_count": null,
   "metadata": {},
   "outputs": [],
   "source": [
    "# 二次代价函数\n",
    "Iter 0,Testing Accuracy 0.8318\n",
    "Iter 1,Testing Accuracy 0.8699\n",
    "Iter 2,Testing Accuracy 0.8814\n",
    "Iter 3,Testing Accuracy 0.889\n",
    "Iter 4,Testing Accuracy 0.8942\n",
    "Iter 5,Testing Accuracy 0.897\n",
    "Iter 6,Testing Accuracy 0.9005\n",
    "Iter 7,Testing Accuracy 0.9023\n",
    "Iter 8,Testing Accuracy 0.9035\n",
    "Iter 9,Testing Accuracy 0.9046\n",
    "Iter 10,Testing Accuracy 0.9059\n",
    "Iter 11,Testing Accuracy 0.907\n",
    "Iter 12,Testing Accuracy 0.9081\n",
    "Iter 13,Testing Accuracy 0.9084\n",
    "Iter 14,Testing Accuracy 0.91\n",
    "Iter 15,Testing Accuracy 0.9111\n",
    "Iter 16,Testing Accuracy 0.9115\n",
    "Iter 17,Testing Accuracy 0.9123\n",
    "Iter 18,Testing Accuracy 0.9126\n",
    "Iter 19,Testing Accuracy 0.9129\n",
    "Iter 20,Testing Accuracy 0.9139"
   ]
  }
 ],
 "metadata": {
  "kernelspec": {
   "display_name": "Python 3",
   "language": "python",
   "name": "python3"
  },
  "language_info": {
   "codemirror_mode": {
    "name": "ipython",
    "version": 3
   },
   "file_extension": ".py",
   "mimetype": "text/x-python",
   "name": "python",
   "nbconvert_exporter": "python",
   "pygments_lexer": "ipython3",
   "version": "3.7.0"
  }
 },
 "nbformat": 4,
 "nbformat_minor": 2
}
